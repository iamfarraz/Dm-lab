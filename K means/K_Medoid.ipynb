{
 "cells": [
  {
   "cell_type": "code",
   "execution_count": 13,
   "id": "3a49b92e",
   "metadata": {},
   "outputs": [],
   "source": [
    "# Import Libraries\n",
    "\n",
    "import numpy as np"
   ]
  },
  {
   "cell_type": "code",
   "execution_count": 14,
   "id": "25a1cb8d",
   "metadata": {},
   "outputs": [],
   "source": [
    "def ReadData(fileName):\n",
    "    f = open(fileName, 'r')\n",
    "    lines = f.read().splitlines()\n",
    "    f.close() \n",
    "    \n",
    "    items = []\n",
    "  \n",
    "    for val in lines: \n",
    "        line = val.split(',') \n",
    "        itemFeatures = []\n",
    "  \n",
    "        for num in line: \n",
    "            v = float(num)\n",
    "            itemFeatures.append(v)\n",
    "  \n",
    "        items.append(itemFeatures)   \n",
    "    return items"
   ]
  },
  {
   "cell_type": "code",
   "execution_count": 15,
   "id": "77b0306c",
   "metadata": {},
   "outputs": [],
   "source": [
    "def manhattan(p1, p2):\n",
    "    return abs(p1[0]-p2[0]) + abs(p1[1]-p2[1])"
   ]
  },
  {
   "cell_type": "code",
   "execution_count": 16,
   "id": "e6c148ed",
   "metadata": {},
   "outputs": [],
   "source": [
    "def get_costs(data, medoids):\n",
    "    tmp_clusters = {i:[] for i in range(len(medoids))}\n",
    "    cst = 0\n",
    "        \n",
    "    for d in data:\n",
    "        dis = [manhattan(d, data[md]) for md in medoids]\n",
    "        c = dis.index(min(dis))\n",
    "        tmp_clusters[c].append(d)\n",
    "        cst+=min(dis)\n",
    "\n",
    "    tmp_clusters = {k:np.array(v) for k,v in tmp_clusters.items()}\n",
    "    return tmp_clusters, cst"
   ]
  },
  {
   "cell_type": "code",
   "execution_count": 17,
   "id": "b2d7cb30",
   "metadata": {},
   "outputs": [],
   "source": [
    "def k_medoid(data, k, medoids):\n",
    "    clusters, cost = get_costs(data, medoids)\n",
    "    print(\"Medoids :\",medoids)\n",
    "    n=len(data)\n",
    "    while True:\n",
    "        swap = False\n",
    "        for i in range(n):\n",
    "            if i not in medoids:\n",
    "                for j in range(k):\n",
    "                    tmp_meds = medoids[:]\n",
    "                    tmp_meds[j] = i\n",
    "                    clusters_, cost_ = get_costs(data, tmp_meds)\n",
    "\n",
    "                    if cost_<cost:\n",
    "                        medoids = tmp_meds\n",
    "                        cost = cost_\n",
    "                        swap = True\n",
    "                        clusters = clusters_\n",
    "                        print(\"Medoids :\",medoids)\n",
    "                        \n",
    "        if not swap:\n",
    "            print(\"Medoids :\",medoids)\n",
    "            return clusters\n",
    "    "
   ]
  },
  {
   "cell_type": "code",
   "execution_count": 18,
   "id": "541daf9c",
   "metadata": {},
   "outputs": [
    {
     "name": "stdout",
     "output_type": "stream",
     "text": [
      "Data : [[2.0, 6.0], [8.0, 12.0], [15.0, 5.0], [3.0, 9.0], [11.0, 8.0], [22.0, 10.0], [18.0, 30.0], [12.0, 20.0], [12.0, 14.0], [20.0, 30.0]]\n",
      "\n",
      "Medoids : [0, 1, 2]\n",
      "Medoids : [5, 1, 2]\n",
      "Medoids : [6, 1, 2]\n",
      "Medoids : [6, 1, 2]\n",
      "\n",
      "Medoid 0 : [2.0, 6.0]\n",
      "Cluster  0 : [18. 30.] [20. 30.]\n",
      "\n",
      "Medoid 1 : [8.0, 12.0]\n",
      "Cluster  1 : [2. 6.] [ 8. 12.] [3. 9.] [11.  8.] [12. 20.] [12. 14.]\n",
      "\n",
      "Medoid 2 : [15.0, 5.0]\n",
      "Cluster  2 : [15.  5.] [22. 10.]\n",
      "\n"
     ]
    }
   ],
   "source": [
    "k=3\n",
    "data = ReadData('K-Medoid.csv')\n",
    "medoids=[0,1,2]\n",
    "print(\"Data :\",data)\n",
    "print()\n",
    "clusters=k_medoid(data, k, medoids)\n",
    "print()\n",
    "for i in range (k):\n",
    "    print(\"Medoid {} : {}\".format(i, data[medoids[i]]))\n",
    "    print(\"Cluster \",i,\":\",*clusters[i])\n",
    "    print()\n"
   ]
  },
  {
   "cell_type": "code",
   "execution_count": null,
   "id": "72f75136",
   "metadata": {},
   "outputs": [],
   "source": []
  },
  {
   "cell_type": "code",
   "execution_count": null,
   "id": "1f3d3975",
   "metadata": {},
   "outputs": [],
   "source": []
  }
 ],
 "metadata": {
  "kernelspec": {
   "display_name": "Python 3.9.12 ('base')",
   "language": "python",
   "name": "python3"
  },
  "language_info": {
   "codemirror_mode": {
    "name": "ipython",
    "version": 3
   },
   "file_extension": ".py",
   "mimetype": "text/x-python",
   "name": "python",
   "nbconvert_exporter": "python",
   "pygments_lexer": "ipython3",
   "version": "3.9.12"
  },
  "vscode": {
   "interpreter": {
    "hash": "1c5406e147a62f63fac22c7653ce19491768f7514643a69e3bb230a830923830"
   }
  }
 },
 "nbformat": 4,
 "nbformat_minor": 5
}

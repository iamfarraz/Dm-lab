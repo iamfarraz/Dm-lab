{
 "cells": [
  {
   "cell_type": "code",
   "execution_count": 71,
   "id": "b21463d1",
   "metadata": {},
   "outputs": [],
   "source": [
    "data = [\n",
    "        [2,6],\n",
    "        [8,12],\n",
    "        [15,5],\n",
    "        [3,9],\n",
    "        [11,8],\n",
    "        [22,10],\n",
    "        [18,30],\n",
    "        [12,20],\n",
    "        [12,14],\n",
    "        [20,30]\n",
    "        ]\n"
   ]
  },
  {
   "cell_type": "markdown",
   "id": "b4e77a0e",
   "metadata": {},
   "source": [
    "x = [i[0] for i in data]\n",
    "y = [i[1] for i in data]"
   ]
  },
  {
   "cell_type": "code",
   "execution_count": 72,
   "id": "73cdd913",
   "metadata": {},
   "outputs": [],
   "source": [
    "import math\n",
    "\n",
    "def dist(center, point):\n",
    "    d = 0.0\n",
    "    for i in range(0,len(point)):\n",
    "        d += (center[i]-point[i])**2\n",
    "    return math.sqrt(d)"
   ]
  },
  {
   "cell_type": "code",
   "execution_count": 73,
   "id": "9b5c2d3b",
   "metadata": {},
   "outputs": [],
   "source": [
    "def assignCenters(centers, dataset):\n",
    "    clusters = []\n",
    "    for i in range(len(dataset)):\n",
    "        distances = []\n",
    "        for center in centers:\n",
    "            distances.append(dist(center, dataset[i]))\n",
    "        temp = [z for z, val in enumerate(distances) if val==min(distances)]\n",
    "        clusters.append(temp[0])\n",
    "    return clusters"
   ]
  },
  {
   "cell_type": "code",
   "execution_count": 74,
   "id": "bcea013d",
   "metadata": {},
   "outputs": [],
   "source": [
    "def mean_center(k, dataset, clusters):\n",
    "    nCenters = []\n",
    "    for i in range(k):\n",
    "        x = 0.0\n",
    "        y = 0.0\n",
    "        count = 0\n",
    "        for j in range(len(clusters)):\n",
    "            if(i == clusters[j]):\n",
    "                x += dataset[j][0]\n",
    "                y += dataset[j][1]\n",
    "                count += 1\n",
    "        x = x/count\n",
    "        y = y/count\n",
    "        nCenters.append([x,y])\n",
    "    return nCenters"
   ]
  },
  {
   "cell_type": "code",
   "execution_count": 75,
   "id": "4ea59ac6",
   "metadata": {},
   "outputs": [
    {
     "name": "stdout",
     "output_type": "stream",
     "text": [
      "Enter k\n",
      "enter center 0\n",
      "enter center 1\n"
     ]
    }
   ],
   "source": [
    "print(\"Enter k\")\n",
    "k = int(input())\n",
    "centers = []\n",
    "for i in range(k):\n",
    "    print(\"enter center \"+str(i))\n",
    "    temp = [int(x) for x in input().split()]\n",
    "    centers.append(temp)"
   ]
  },
  {
   "cell_type": "code",
   "execution_count": 76,
   "id": "e303f5ff",
   "metadata": {},
   "outputs": [
    {
     "name": "stdout",
     "output_type": "stream",
     "text": [
      "Initial centers: \n",
      "[[2, 6], [8, 12]]\n",
      "Initial clusters: \n",
      "cluster 0\n",
      "[2, 6] [3, 9] \n",
      "cluster 1\n",
      "[8, 12] [15, 5] [11, 8] [22, 10] [18, 30] [12, 20] [12, 14] [20, 30] \n",
      "\n"
     ]
    }
   ],
   "source": [
    "print(\"Initial centers: \")\n",
    "print(centers)\n",
    "print(\"Initial clusters: \")\n",
    "clusters = assignCenters(centers, data)\n",
    "for i in range(k):\n",
    "    print(\"cluster \"+str(i))\n",
    "    for j in range(len(clusters)):\n",
    "        if(i == clusters[j]):\n",
    "            print(data[j],end=' ')\n",
    "    print()\n",
    "print()"
   ]
  },
  {
   "cell_type": "code",
   "execution_count": 77,
   "id": "ea3fe325",
   "metadata": {},
   "outputs": [
    {
     "name": "stdout",
     "output_type": "stream",
     "text": [
      "Iteration 0\n",
      "Updated centers: \n",
      "[[2.5, 7.5], [14.75, 16.125]]\n",
      "Updated clusters: \n",
      "cluster 0\n",
      "[2, 6] [8, 12] [3, 9] [11, 8] \n",
      "cluster 1\n",
      "[15, 5] [22, 10] [18, 30] [12, 20] [12, 14] [20, 30] \n",
      "\n",
      "Iteration 1\n",
      "Updated centers: \n",
      "[[6.0, 8.75], [16.5, 18.166666666666668]]\n",
      "Updated clusters: \n",
      "cluster 0\n",
      "[2, 6] [8, 12] [15, 5] [3, 9] [11, 8] \n",
      "cluster 1\n",
      "[22, 10] [18, 30] [12, 20] [12, 14] [20, 30] \n",
      "\n",
      "Iteration 2\n",
      "Updated centers: \n",
      "[[7.8, 8.0], [16.8, 20.8]]\n",
      "Updated clusters: \n",
      "cluster 0\n",
      "[2, 6] [8, 12] [15, 5] [3, 9] [11, 8] [12, 14] \n",
      "cluster 1\n",
      "[22, 10] [18, 30] [12, 20] [20, 30] \n",
      "\n",
      "Iteration 3\n",
      "Updated centers: \n",
      "[[8.5, 9.0], [18.0, 22.5]]\n",
      "Updated clusters: \n",
      "cluster 0\n",
      "[2, 6] [8, 12] [15, 5] [3, 9] [11, 8] [12, 14] \n",
      "cluster 1\n",
      "[22, 10] [18, 30] [12, 20] [20, 30] \n",
      "\n",
      "Iteration 4\n",
      "Updated centers: \n",
      "[[8.5, 9.0], [18.0, 22.5]]\n",
      "Updated clusters: \n",
      "cluster 0\n",
      "[2, 6] [8, 12] [15, 5] [3, 9] [11, 8] [12, 14] \n",
      "cluster 1\n",
      "[22, 10] [18, 30] [12, 20] [20, 30] \n",
      "\n",
      "Iteration 5\n",
      "Updated centers: \n",
      "[[8.5, 9.0], [18.0, 22.5]]\n",
      "Updated clusters: \n",
      "cluster 0\n",
      "[2, 6] [8, 12] [15, 5] [3, 9] [11, 8] [12, 14] \n",
      "cluster 1\n",
      "[22, 10] [18, 30] [12, 20] [20, 30] \n",
      "\n",
      "Iteration 6\n",
      "Updated centers: \n",
      "[[8.5, 9.0], [18.0, 22.5]]\n",
      "Updated clusters: \n",
      "cluster 0\n",
      "[2, 6] [8, 12] [15, 5] [3, 9] [11, 8] [12, 14] \n",
      "cluster 1\n",
      "[22, 10] [18, 30] [12, 20] [20, 30] \n",
      "\n",
      "Iteration 7\n",
      "Updated centers: \n",
      "[[8.5, 9.0], [18.0, 22.5]]\n",
      "Updated clusters: \n",
      "cluster 0\n",
      "[2, 6] [8, 12] [15, 5] [3, 9] [11, 8] [12, 14] \n",
      "cluster 1\n",
      "[22, 10] [18, 30] [12, 20] [20, 30] \n",
      "\n",
      "Iteration 8\n",
      "Updated centers: \n",
      "[[8.5, 9.0], [18.0, 22.5]]\n",
      "Updated clusters: \n",
      "cluster 0\n",
      "[2, 6] [8, 12] [15, 5] [3, 9] [11, 8] [12, 14] \n",
      "cluster 1\n",
      "[22, 10] [18, 30] [12, 20] [20, 30] \n",
      "\n",
      "Iteration 9\n",
      "Updated centers: \n",
      "[[8.5, 9.0], [18.0, 22.5]]\n",
      "Updated clusters: \n",
      "cluster 0\n",
      "[2, 6] [8, 12] [15, 5] [3, 9] [11, 8] [12, 14] \n",
      "cluster 1\n",
      "[22, 10] [18, 30] [12, 20] [20, 30] \n",
      "\n"
     ]
    }
   ],
   "source": [
    "mx=10\n",
    "for itr in range(mx):\n",
    "    print(\"Iteration \"+str(itr))\n",
    "    centers = mean_center(k,data,clusters)\n",
    "    print(\"Updated centers: \")\n",
    "    print(centers)\n",
    "    clusters = assignCenters(centers, data)\n",
    "    print(\"Updated clusters: \")\n",
    "    for i in range(k):\n",
    "        print(\"cluster \"+str(i))\n",
    "        for j in range(len(clusters)):\n",
    "            if(i == clusters[j]):\n",
    "                print(data[j],end=' ')\n",
    "        print()\n",
    "    print()"
   ]
  }
 ],
 "metadata": {
  "kernelspec": {
   "display_name": "Python 3.9.12 ('base')",
   "language": "python",
   "name": "python3"
  },
  "language_info": {
   "codemirror_mode": {
    "name": "ipython",
    "version": 3
   },
   "file_extension": ".py",
   "mimetype": "text/x-python",
   "name": "python",
   "nbconvert_exporter": "python",
   "pygments_lexer": "ipython3",
   "version": "3.9.12"
  },
  "vscode": {
   "interpreter": {
    "hash": "1c5406e147a62f63fac22c7653ce19491768f7514643a69e3bb230a830923830"
   }
  }
 },
 "nbformat": 4,
 "nbformat_minor": 5
}
